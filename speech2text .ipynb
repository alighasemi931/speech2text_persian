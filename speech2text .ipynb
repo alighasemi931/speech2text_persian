{
  "cells": [
    {
      "cell_type": "code",
      "execution_count": null,
      "metadata": {
        "colab": {
          "base_uri": "https://localhost:8080/"
        },
        "id": "uGefMDIVE37e",
        "outputId": "84580ee4-3c74-4b7f-e15e-33c36a10a1c3"
      },
      "outputs": [
        {
          "name": "stdout",
          "output_type": "stream",
          "text": [
            "Requirement already satisfied: torch in /usr/local/lib/python3.10/dist-packages (2.0.1+cu118)\n",
            "Requirement already satisfied: torchaudio in /usr/local/lib/python3.10/dist-packages (2.0.2+cu118)\n",
            "Collecting datasets\n",
            "  Downloading datasets-2.13.1-py3-none-any.whl (486 kB)\n",
            "\u001b[2K     \u001b[90m━━━━━━━━━━━━━━━━━━━━━━━━━━━━━━━━━━━━━━\u001b[0m \u001b[32m486.2/486.2 kB\u001b[0m \u001b[31m10.4 MB/s\u001b[0m eta \u001b[36m0:00:00\u001b[0m\n",
            "\u001b[?25hCollecting transformers\n",
            "  Downloading transformers-4.30.2-py3-none-any.whl (7.2 MB)\n",
            "\u001b[2K     \u001b[90m━━━━━━━━━━━━━━━━━━━━━━━━━━━━━━━━━━━━━━━━\u001b[0m \u001b[32m7.2/7.2 MB\u001b[0m \u001b[31m98.8 MB/s\u001b[0m eta \u001b[36m0:00:00\u001b[0m\n",
            "\u001b[?25hRequirement already satisfied: filelock in /usr/local/lib/python3.10/dist-packages (from torch) (3.12.2)\n",
            "Requirement already satisfied: typing-extensions in /usr/local/lib/python3.10/dist-packages (from torch) (4.6.3)\n",
            "Requirement already satisfied: sympy in /usr/local/lib/python3.10/dist-packages (from torch) (1.11.1)\n",
            "Requirement already satisfied: networkx in /usr/local/lib/python3.10/dist-packages (from torch) (3.1)\n",
            "Requirement already satisfied: jinja2 in /usr/local/lib/python3.10/dist-packages (from torch) (3.1.2)\n",
            "Requirement already satisfied: triton==2.0.0 in /usr/local/lib/python3.10/dist-packages (from torch) (2.0.0)\n",
            "Requirement already satisfied: cmake in /usr/local/lib/python3.10/dist-packages (from triton==2.0.0->torch) (3.25.2)\n",
            "Requirement already satisfied: lit in /usr/local/lib/python3.10/dist-packages (from triton==2.0.0->torch) (16.0.6)\n",
            "Requirement already satisfied: numpy>=1.17 in /usr/local/lib/python3.10/dist-packages (from datasets) (1.22.4)\n",
            "Requirement already satisfied: pyarrow>=8.0.0 in /usr/local/lib/python3.10/dist-packages (from datasets) (9.0.0)\n",
            "Collecting dill<0.3.7,>=0.3.0 (from datasets)\n",
            "  Downloading dill-0.3.6-py3-none-any.whl (110 kB)\n",
            "\u001b[2K     \u001b[90m━━━━━━━━━━━━━━━━━━━━━━━━━━━━━━━━━━━━━━\u001b[0m \u001b[32m110.5/110.5 kB\u001b[0m \u001b[31m11.2 MB/s\u001b[0m eta \u001b[36m0:00:00\u001b[0m\n",
            "\u001b[?25hRequirement already satisfied: pandas in /usr/local/lib/python3.10/dist-packages (from datasets) (1.5.3)\n",
            "Requirement already satisfied: requests>=2.19.0 in /usr/local/lib/python3.10/dist-packages (from datasets) (2.27.1)\n",
            "Requirement already satisfied: tqdm>=4.62.1 in /usr/local/lib/python3.10/dist-packages (from datasets) (4.65.0)\n",
            "Collecting xxhash (from datasets)\n",
            "  Downloading xxhash-3.2.0-cp310-cp310-manylinux_2_17_x86_64.manylinux2014_x86_64.whl (212 kB)\n",
            "\u001b[2K     \u001b[90m━━━━━━━━━━━━━━━━━━━━━━━━━━━━━━━━━━━━━━\u001b[0m \u001b[32m212.5/212.5 kB\u001b[0m \u001b[31m21.7 MB/s\u001b[0m eta \u001b[36m0:00:00\u001b[0m\n",
            "\u001b[?25hCollecting multiprocess (from datasets)\n",
            "  Downloading multiprocess-0.70.14-py310-none-any.whl (134 kB)\n",
            "\u001b[2K     \u001b[90m━━━━━━━━━━━━━━━━━━━━━━━━━━━━━━━━━━━━━━\u001b[0m \u001b[32m134.3/134.3 kB\u001b[0m \u001b[31m13.5 MB/s\u001b[0m eta \u001b[36m0:00:00\u001b[0m\n",
            "\u001b[?25hRequirement already satisfied: fsspec[http]>=2021.11.1 in /usr/local/lib/python3.10/dist-packages (from datasets) (2023.6.0)\n",
            "Requirement already satisfied: aiohttp in /usr/local/lib/python3.10/dist-packages (from datasets) (3.8.4)\n",
            "Collecting huggingface-hub<1.0.0,>=0.11.0 (from datasets)\n",
            "  Downloading huggingface_hub-0.15.1-py3-none-any.whl (236 kB)\n",
            "\u001b[2K     \u001b[90m━━━━━━━━━━━━━━━━━━━━━━━━━━━━━━━━━━━━━━\u001b[0m \u001b[32m236.8/236.8 kB\u001b[0m \u001b[31m23.8 MB/s\u001b[0m eta \u001b[36m0:00:00\u001b[0m\n",
            "\u001b[?25hRequirement already satisfied: packaging in /usr/local/lib/python3.10/dist-packages (from datasets) (23.1)\n",
            "Requirement already satisfied: pyyaml>=5.1 in /usr/local/lib/python3.10/dist-packages (from datasets) (6.0)\n",
            "Requirement already satisfied: regex!=2019.12.17 in /usr/local/lib/python3.10/dist-packages (from transformers) (2022.10.31)\n",
            "Collecting tokenizers!=0.11.3,<0.14,>=0.11.1 (from transformers)\n",
            "  Downloading tokenizers-0.13.3-cp310-cp310-manylinux_2_17_x86_64.manylinux2014_x86_64.whl (7.8 MB)\n",
            "\u001b[2K     \u001b[90m━━━━━━━━━━━━━━━━━━━━━━━━━━━━━━━━━━━━━━━━\u001b[0m \u001b[32m7.8/7.8 MB\u001b[0m \u001b[31m136.2 MB/s\u001b[0m eta \u001b[36m0:00:00\u001b[0m\n",
            "\u001b[?25hCollecting safetensors>=0.3.1 (from transformers)\n",
            "  Downloading safetensors-0.3.1-cp310-cp310-manylinux_2_17_x86_64.manylinux2014_x86_64.whl (1.3 MB)\n",
            "\u001b[2K     \u001b[90m━━━━━━━━━━━━━━━━━━━━━━━━━━━━━━━━━━━━━━━━\u001b[0m \u001b[32m1.3/1.3 MB\u001b[0m \u001b[31m85.6 MB/s\u001b[0m eta \u001b[36m0:00:00\u001b[0m\n",
            "\u001b[?25hRequirement already satisfied: attrs>=17.3.0 in /usr/local/lib/python3.10/dist-packages (from aiohttp->datasets) (23.1.0)\n",
            "Requirement already satisfied: charset-normalizer<4.0,>=2.0 in /usr/local/lib/python3.10/dist-packages (from aiohttp->datasets) (2.0.12)\n",
            "Requirement already satisfied: multidict<7.0,>=4.5 in /usr/local/lib/python3.10/dist-packages (from aiohttp->datasets) (6.0.4)\n",
            "Requirement already satisfied: async-timeout<5.0,>=4.0.0a3 in /usr/local/lib/python3.10/dist-packages (from aiohttp->datasets) (4.0.2)\n",
            "Requirement already satisfied: yarl<2.0,>=1.0 in /usr/local/lib/python3.10/dist-packages (from aiohttp->datasets) (1.9.2)\n",
            "Requirement already satisfied: frozenlist>=1.1.1 in /usr/local/lib/python3.10/dist-packages (from aiohttp->datasets) (1.3.3)\n",
            "Requirement already satisfied: aiosignal>=1.1.2 in /usr/local/lib/python3.10/dist-packages (from aiohttp->datasets) (1.3.1)\n",
            "Requirement already satisfied: urllib3<1.27,>=1.21.1 in /usr/local/lib/python3.10/dist-packages (from requests>=2.19.0->datasets) (1.26.16)\n",
            "Requirement already satisfied: certifi>=2017.4.17 in /usr/local/lib/python3.10/dist-packages (from requests>=2.19.0->datasets) (2023.5.7)\n",
            "Requirement already satisfied: idna<4,>=2.5 in /usr/local/lib/python3.10/dist-packages (from requests>=2.19.0->datasets) (3.4)\n",
            "Requirement already satisfied: MarkupSafe>=2.0 in /usr/local/lib/python3.10/dist-packages (from jinja2->torch) (2.1.3)\n",
            "Requirement already satisfied: python-dateutil>=2.8.1 in /usr/local/lib/python3.10/dist-packages (from pandas->datasets) (2.8.2)\n",
            "Requirement already satisfied: pytz>=2020.1 in /usr/local/lib/python3.10/dist-packages (from pandas->datasets) (2022.7.1)\n",
            "Requirement already satisfied: mpmath>=0.19 in /usr/local/lib/python3.10/dist-packages (from sympy->torch) (1.3.0)\n",
            "Requirement already satisfied: six>=1.5 in /usr/local/lib/python3.10/dist-packages (from python-dateutil>=2.8.1->pandas->datasets) (1.16.0)\n",
            "Installing collected packages: tokenizers, safetensors, xxhash, dill, multiprocess, huggingface-hub, transformers, datasets\n",
            "Successfully installed datasets-2.13.1 dill-0.3.6 huggingface-hub-0.15.1 multiprocess-0.70.14 safetensors-0.3.1 tokenizers-0.13.3 transformers-4.30.2 xxhash-3.2.0\n"
          ]
        }
      ],
      "source": [
        "!pip install torch torchaudio datasets transformers"
      ]
    },
    {
      "cell_type": "code",
      "execution_count": null,
      "metadata": {
        "colab": {
          "background_save": true
        },
        "id": "DNX2-IdnkHhP"
      },
      "outputs": [],
      "source": [
        "import torch\n",
        "import torchaudio\n",
        "from datasets import load_dataset\n",
        "from transformers import Wav2Vec2ForCTC, Wav2Vec2Tokenizer"
      ]
    },
    {
      "cell_type": "code",
      "execution_count": null,
      "metadata": {
        "id": "otvdDjbip3Z1"
      },
      "outputs": [],
      "source": [
        "# Convert MP3 to WAV\n",
        "def convert_mp3_to_wav(mp3_file, wav_file):\n",
        "    audio = AudioSegment.from_mp3(mp3_file)\n",
        "    audio.export(wav_file, format='wav')"
      ]
    },
    {
      "cell_type": "code",
      "execution_count": null,
      "metadata": {
        "colab": {
          "base_uri": "https://localhost:8080/"
        },
        "id": "KRK7DRDvk5oW",
        "outputId": "a458fa45-2a58-4414-c32c-90de9c29f199"
      },
      "outputs": [
        {
          "name": "stdout",
          "output_type": "stream",
          "text": [
            "--2023-06-28 12:14:13--  https://alphacephei.com/vosk/models/vosk-model-small-fa-0.5.zip\n",
            "Resolving alphacephei.com (alphacephei.com)... 188.40.21.16, 2a01:4f8:13a:279f::2\n",
            "Connecting to alphacephei.com (alphacephei.com)|188.40.21.16|:443... connected.\n",
            "HTTP request sent, awaiting response... 200 OK\n",
            "Length: 62153530 (59M) [application/zip]\n",
            "Saving to: ‘vosk-model-small-fa-0.5.zip.3’\n",
            "\n",
            "vosk-model-small-fa 100%[===================>]  59.27M  21.6MB/s    in 2.7s    \n",
            "\n",
            "2023-06-28 12:14:16 (21.6 MB/s) - ‘vosk-model-small-fa-0.5.zip.3’ saved [62153530/62153530]\n",
            "\n",
            "Archive:  vosk-model-small-fa-0.5.zip\n",
            "replace vosk-model-small-fa-0.5/test/test.txt? [y]es, [n]o, [A]ll, [N]one, [r]ename: A\n",
            " extracting: vosk-model-small-fa-0.5/test/test.txt  \n",
            "  inflating: vosk-model-small-fa-0.5/test/test.wav  \n",
            "  inflating: vosk-model-small-fa-0.5/test/test_simple.py  \n",
            "  inflating: vosk-model-small-fa-0.5/am/final.mdl  \n",
            "  inflating: vosk-model-small-fa-0.5/am/tree  \n",
            "  inflating: vosk-model-small-fa-0.5/graph/disambig_tid.int  \n",
            "  inflating: vosk-model-small-fa-0.5/graph/HCLr.fst  \n",
            "  inflating: vosk-model-small-fa-0.5/graph/Gr.fst  \n",
            "  inflating: vosk-model-small-fa-0.5/graph/phones/word_boundary.int  \n",
            "  inflating: vosk-model-small-fa-0.5/conf/model.conf  \n",
            "  inflating: vosk-model-small-fa-0.5/conf/mfcc.conf  \n",
            "  inflating: vosk-model-small-fa-0.5/ivector/splice.conf  \n",
            "  inflating: vosk-model-small-fa-0.5/ivector/final.dubm  \n",
            "  inflating: vosk-model-small-fa-0.5/ivector/global_cmvn.stats  \n",
            "  inflating: vosk-model-small-fa-0.5/ivector/final.ie  \n",
            "  inflating: vosk-model-small-fa-0.5/ivector/online_cmvn.conf  \n",
            "  inflating: vosk-model-small-fa-0.5/ivector/final.mat  \n",
            " extracting: vosk-model-small-fa-0.5/README  \n",
            "--2023-06-28 12:14:26--  https://alphacephei.com/vosk/models/vosk-model-small-fa-0.4.zip\n",
            "Resolving alphacephei.com (alphacephei.com)... 188.40.21.16, 2a01:4f8:13a:279f::2\n",
            "Connecting to alphacephei.com (alphacephei.com)|188.40.21.16|:443... connected.\n",
            "HTTP request sent, awaiting response... 200 OK\n",
            "Length: 48743434 (46M) [application/zip]\n",
            "Saving to: ‘vosk-model-small-fa-0.4.zip.3’\n",
            "\n",
            "vosk-model-small-fa 100%[===================>]  46.49M  20.8MB/s    in 2.2s    \n",
            "\n",
            "2023-06-28 12:14:28 (20.8 MB/s) - ‘vosk-model-small-fa-0.4.zip.3’ saved [48743434/48743434]\n",
            "\n",
            "Archive:  vosk-model-small-fa-0.4.zip\n",
            "replace vosk-model-small-fa-0.4/am/final.mdl? [y]es, [n]o, [A]ll, [N]one, [r]ename: A\n",
            "  inflating: vosk-model-small-fa-0.4/am/final.mdl  \n",
            "  inflating: vosk-model-small-fa-0.4/am/tree  \n",
            "  inflating: vosk-model-small-fa-0.4/graph/disambig_tid.int  \n",
            "  inflating: vosk-model-small-fa-0.4/graph/HCLr.fst  \n",
            "  inflating: vosk-model-small-fa-0.4/graph/Gr.fst  \n",
            " extracting: vosk-model-small-fa-0.4/graph/phones/optional_silence.csl  \n",
            " extracting: vosk-model-small-fa-0.4/graph/phones/silence.csl  \n",
            "  inflating: vosk-model-small-fa-0.4/graph/phones/align_lexicon.txt  \n",
            " extracting: vosk-model-small-fa-0.4/graph/phones/optional_silence.txt  \n",
            "  inflating: vosk-model-small-fa-0.4/graph/phones/word_boundary.txt  \n",
            "  inflating: vosk-model-small-fa-0.4/graph/phones/disambig.int  \n",
            "  inflating: vosk-model-small-fa-0.4/graph/phones/word_boundary.int  \n",
            " extracting: vosk-model-small-fa-0.4/graph/phones/optional_silence.int  \n",
            " extracting: vosk-model-small-fa-0.4/graph/phones/disambig.txt  \n",
            "  inflating: vosk-model-small-fa-0.4/graph/phones/align_lexicon.int  \n",
            "  inflating: vosk-model-small-fa-0.4/conf/model.conf  \n",
            "  inflating: vosk-model-small-fa-0.4/conf/mfcc.conf  \n",
            "  inflating: vosk-model-small-fa-0.4/ivector/splice.conf  \n",
            "  inflating: vosk-model-small-fa-0.4/ivector/final.dubm  \n",
            "  inflating: vosk-model-small-fa-0.4/ivector/global_cmvn.stats  \n",
            "  inflating: vosk-model-small-fa-0.4/ivector/final.ie  \n",
            "  inflating: vosk-model-small-fa-0.4/ivector/online_cmvn.conf  \n",
            "  inflating: vosk-model-small-fa-0.4/ivector/final.mat  \n",
            " extracting: vosk-model-small-fa-0.4/README  \n"
          ]
        }
      ],
      "source": [
        "!wget https://alphacephei.com/vosk/models/vosk-model-small-fa-0.5.zip\n",
        "!unzip vosk-model-small-fa-0.5.zip\n",
        "!wget https://alphacephei.com/vosk/models/vosk-model-small-fa-0.4.zip\n",
        "!unzip vosk-model-small-fa-0.4.zip"
      ]
    },
    {
      "cell_type": "code",
      "execution_count": null,
      "metadata": {
        "colab": {
          "base_uri": "https://localhost:8080/",
          "height": 304
        },
        "id": "Nr6qfzN_g6A1",
        "outputId": "e300d26a-037a-4182-fd46-040e8b19577a"
      },
      "outputs": [
        {
          "ename": "Exception",
          "evalue": "ignored",
          "output_type": "error",
          "traceback": [
            "\u001b[0;31m---------------------------------------------------------------------------\u001b[0m",
            "\u001b[0;31mException\u001b[0m                                 Traceback (most recent call last)",
            "\u001b[0;32m<ipython-input-219-03e809ee73bb>\u001b[0m in \u001b[0;36m<cell line: 2>\u001b[0;34m()\u001b[0m\n\u001b[1;32m      1\u001b[0m \u001b[0;31m# Initialize the Vosk recognizer with the Persian model\u001b[0m\u001b[0;34m\u001b[0m\u001b[0;34m\u001b[0m\u001b[0m\n\u001b[0;32m----> 2\u001b[0;31m \u001b[0mmodel\u001b[0m \u001b[0;34m=\u001b[0m \u001b[0mvosk\u001b[0m\u001b[0;34m.\u001b[0m\u001b[0mModel\u001b[0m\u001b[0;34m(\u001b[0m\u001b[0;34m\"vosk-model-fa-0.4\"\u001b[0m\u001b[0;34m)\u001b[0m\u001b[0;34m\u001b[0m\u001b[0;34m\u001b[0m\u001b[0m\n\u001b[0m",
            "\u001b[0;32m/usr/local/lib/python3.10/dist-packages/vosk/__init__.py\u001b[0m in \u001b[0;36m__init__\u001b[0;34m(self, model_path, model_name, lang)\u001b[0m\n\u001b[1;32m     55\u001b[0m             \u001b[0mself\u001b[0m\u001b[0;34m.\u001b[0m\u001b[0m_handle\u001b[0m \u001b[0;34m=\u001b[0m \u001b[0m_c\u001b[0m\u001b[0;34m.\u001b[0m\u001b[0mvosk_model_new\u001b[0m\u001b[0;34m(\u001b[0m\u001b[0mmodel_path\u001b[0m\u001b[0;34m.\u001b[0m\u001b[0mencode\u001b[0m\u001b[0;34m(\u001b[0m\u001b[0;34m\"utf-8\"\u001b[0m\u001b[0;34m)\u001b[0m\u001b[0;34m)\u001b[0m\u001b[0;34m\u001b[0m\u001b[0;34m\u001b[0m\u001b[0m\n\u001b[1;32m     56\u001b[0m         \u001b[0;32mif\u001b[0m \u001b[0mself\u001b[0m\u001b[0;34m.\u001b[0m\u001b[0m_handle\u001b[0m \u001b[0;34m==\u001b[0m \u001b[0m_ffi\u001b[0m\u001b[0;34m.\u001b[0m\u001b[0mNULL\u001b[0m\u001b[0;34m:\u001b[0m\u001b[0;34m\u001b[0m\u001b[0;34m\u001b[0m\u001b[0m\n\u001b[0;32m---> 57\u001b[0;31m             \u001b[0;32mraise\u001b[0m \u001b[0mException\u001b[0m\u001b[0;34m(\u001b[0m\u001b[0;34m\"Failed to create a model\"\u001b[0m\u001b[0;34m)\u001b[0m\u001b[0;34m\u001b[0m\u001b[0;34m\u001b[0m\u001b[0m\n\u001b[0m\u001b[1;32m     58\u001b[0m \u001b[0;34m\u001b[0m\u001b[0m\n\u001b[1;32m     59\u001b[0m     \u001b[0;32mdef\u001b[0m \u001b[0m__del__\u001b[0m\u001b[0;34m(\u001b[0m\u001b[0mself\u001b[0m\u001b[0;34m)\u001b[0m\u001b[0;34m:\u001b[0m\u001b[0;34m\u001b[0m\u001b[0;34m\u001b[0m\u001b[0m\n",
            "\u001b[0;31mException\u001b[0m: Failed to create a model"
          ]
        }
      ],
      "source": [
        "# Initialize the Vosk recognizer with the Persian model\n",
        "model = vosk.Model(\"vosk-model-fa-0.4\")"
      ]
    },
    {
      "cell_type": "code",
      "execution_count": null,
      "metadata": {
        "id": "fyEyAkvb2hzm"
      },
      "outputs": [],
      "source": []
    },
    {
      "cell_type": "code",
      "execution_count": null,
      "metadata": {
        "colab": {
          "base_uri": "https://localhost:8080/"
        },
        "id": "2VZsm9JkBPim",
        "outputId": "91195209-b47a-445f-e3fd-7d93b2737bcc"
      },
      "outputs": [
        {
          "name": "stdout",
          "output_type": "stream",
          "text": [
            "Downloading...\n",
            "From: https://drive.google.com/uc?id=1cC6Rjzgnzq7cSwoV9-hBPpG-JHauZ-yY\n",
            "To: /content/test.mp3\n",
            "\r  0% 0.00/1.91M [00:00<?, ?B/s]\r100% 1.91M/1.91M [00:00<00:00, 150MB/s]\n"
          ]
        }
      ],
      "source": [
        "!gdown https://drive.google.com/uc?id=1cC6Rjzgnzq7cSwoV9-hBPpG-JHauZ-yY"
      ]
    },
    {
      "cell_type": "code",
      "execution_count": null,
      "metadata": {
        "id": "YYqhAfdXoSGQ"
      },
      "outputs": [],
      "source": [
        "# Specify the audio file path (MP3 or WAV)\n",
        "audio_file = 'test2.mp3'  # Replace with the path to your audio file"
      ]
    },
    {
      "cell_type": "code",
      "execution_count": null,
      "metadata": {
        "id": "XY9Lvx7p19HJ"
      },
      "outputs": [],
      "source": [
        "# Convert MP3 to WAV if necessary\n",
        "if audio_file.endswith('.mp3'):\n",
        "    wav_file = 'audio.wav'\n",
        "    convert_mp3_to_wav(audio_file, wav_file)\n",
        "else:\n",
        "    wav_file = audio_file"
      ]
    },
    {
      "cell_type": "code",
      "execution_count": null,
      "metadata": {
        "colab": {
          "base_uri": "https://localhost:8080/"
        },
        "id": "9P-DscwjdG0J",
        "outputId": "e667e0e4-dc7a-47fa-8d74-15c7ea373a8f"
      },
      "outputs": [
        {
          "name": "stdout",
          "output_type": "stream",
          "text": [
            "channels: 1\n",
            "sample_rate: 48000\n"
          ]
        }
      ],
      "source": [
        "# Open the audio file\n",
        "wf = wave.open(wav_file, \"rb\")\n",
        "channels = wf.getnchannels()  # تعداد کانال‌ها\n",
        "print(\"channels:\",channels)\n",
        "sample_rate = wf.getframerate()  # نرخ نمونه‌برداری\n",
        "print(\"sample_rate:\",sample_rate)"
      ]
    },
    {
      "cell_type": "code",
      "execution_count": null,
      "metadata": {
        "id": "jluWd33PWXK3"
      },
      "outputs": [],
      "source": [
        "# Set up the audio stream\n",
        "stream = vosk.KaldiRecognizer(model, wf.getframerate())"
      ]
    },
    {
      "cell_type": "code",
      "execution_count": null,
      "metadata": {
        "id": "AYa1BSIZXdDh"
      },
      "outputs": [],
      "source": [
        "# Loop through the audio stream and transcribe speech\n",
        "transcription = ''\n",
        "while True:\n",
        "    data = wf.readframes(4000)\n",
        "    if len(data) == 0:\n",
        "        break\n",
        "    if stream.AcceptWaveform(data):\n",
        "        result = stream.Result()\n",
        "        transcription += result"
      ]
    },
    {
      "cell_type": "code",
      "execution_count": null,
      "metadata": {
        "id": "A5NyfJ7qM306"
      },
      "outputs": [],
      "source": [
        "# Retrieve the final transcribed text\n",
        "result = stream.FinalResult()\n",
        "transcription += result"
      ]
    },
    {
      "cell_type": "code",
      "execution_count": null,
      "metadata": {
        "colab": {
          "base_uri": "https://localhost:8080/"
        },
        "id": "PR2h3XnxU1i1",
        "outputId": "ccbce9fb-67e3-429f-cee9-b95bca6dd848"
      },
      "outputs": [
        {
          "name": "stdout",
          "output_type": "stream",
          "text": [
            "{\"text\": \"\"}\n"
          ]
        }
      ],
      "source": [
        "# Print the transcription\n",
        "print(transcription)"
      ]
    },
    {
      "cell_type": "code",
      "execution_count": null,
      "metadata": {
        "id": "2p6ml7n9sDXo"
      },
      "outputs": [],
      "source": [
        "# Save the transcription to a text file\n",
        "with open(\"transcription.txt\", \"w\") as f:\n",
        "    f.write(transcription)"
      ]
    },
    {
      "cell_type": "markdown",
      "metadata": {
        "id": "cdMJ9pKdVUT3"
      },
      "source": [
        "Now that we have run the code and seen the output, we can save it in a .txt file"
      ]
    }
  ],
  "metadata": {
    "colab": {
      "provenance": []
    },
    "kernelspec": {
      "display_name": "Python 3",
      "name": "python3"
    },
    "language_info": {
      "name": "python"
    }
  },
  "nbformat": 4,
  "nbformat_minor": 0
}